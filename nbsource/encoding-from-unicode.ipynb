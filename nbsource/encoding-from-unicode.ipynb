{
 "cells": [
  {
   "cell_type": "markdown",
   "metadata": {},
   "source": [
    "# <img src=\"https://dl.dropboxusercontent.com/u/6117375/intermediate-notebooks/title_graphic.png\" /> Encoding from Unicode"
   ]
  },
  {
   "cell_type": "markdown",
   "metadata": {},
   "source": [
    "This document was created on 2014-03-11 at 12:53:21.751442."
   ]
  },
  {
   "cell_type": "markdown",
   "metadata": {},
   "source": [
    "As you recall from the previous notebook, when your editing system is capable of handling Unicode (and the IPython Notebook certainly is) you can include Unicode characters directly in your string literals, but not in your byte strings. Unfortunately the only reliable mechanism for communication with arbitrary endpoints is a stream of bytes. \n",
    "\n",
    "The issue here is that each character (or one-byte escape sequence) is supposed to appear in the bytestring as one byte. To reference the previous lesson again, there is no way to represent the Euro symbol in a single byte. The question then arises as to how you write Unicode strings out to the byte streams that at base are the only way to communicate with storage devices and network endpoints."
   ]
  },
  {
   "cell_type": "markdown",
   "metadata": {},
   "source": [
    "So let's look at how the interpreter undertakes this fascinating task. We do so by the brute-force method of writing a text file out and then reading it back in binary."
   ]
  },
  {
   "cell_type": "markdown",
   "metadata": {},
   "source": [
    "The answer is by adopting encodings, but a further complication arises: how do two parties agree on the particular encoding to use? Sometimes people just use the default encoding (which by default is `UTF-8` for Python), and even that policy goes a long way. Some network protocols like HTTP allow headers to specifiy the encoding of some or all of the message content. We will disregard that question from now on.\n",
    "\n",
    "For now we will focus on the question of how you can convert `b1` to the Unicode string `\"Please pay €9.99 at exit\"`."
   ]
  },
  {
   "cell_type": "code",
   "execution_count": null,
   "metadata": {
    "collapsed": false
   },
   "outputs": [],
   "source": [
    "s1 = 'Please pay €9.99 at exit'\n",
    "o_f = open(\"unicode.txt\", \"w\")\n",
    "print(type(o_f))"
   ]
  },
  {
   "cell_type": "code",
   "execution_count": null,
   "metadata": {
    "collapsed": false
   },
   "outputs": [],
   "source": [
    "o_f.write(s1)\n",
    "o_f.close()\n",
    "i_f = open(\"unicode.txt\", \"rb\")\n",
    "print(type(i_f))"
   ]
  },
  {
   "cell_type": "code",
   "execution_count": null,
   "metadata": {
    "collapsed": false
   },
   "outputs": [],
   "source": [
    "b1 = i_f.read()\n",
    "print(b1)\n",
    "i_f.close()"
   ]
  },
  {
   "cell_type": "markdown",
   "metadata": {},
   "source": [
    "The interpreter has obviously written something other than the Unicode character to the file, and has written the Euro character out as the three-byte sequence `b'\\xe2\\x82\\xac'`."
   ]
  },
  {
   "cell_type": "markdown",
   "metadata": {},
   "source": [
    "You may wonder, if you happen to remember that the euro sign is Unicode code point `0x20ac`, why those bytes don't appear in `b1`. The answer is that the byte string `b1` represents an ___encoding___ of the (Unicode) string `'Please pay €9.99 at exit'`. The `io.TextWrapper` object `o_f` took your Unicode string and turned it into a sequence of bytes. In fact the three-byte string `'\\xe2\\x82\\xac'` is how the code point is encoded in a scheme known as ___UTF-8___.\n",
    "\n",
    "The system used to write these lessons had UTF-8 as its default encoding, which has many advantages in this role.\n",
    "As discussed elsewhere, for good reasons there are many different encodings, and by using Unicode your programs allow users to work with their favored encodings. Coding and decoding is performed by __codecs__. The [Python standard library\n",
    "](http://docs.python.org/3/library/codecs.html#standard-encodings) provides codecs for many of the more popular encodings."
   ]
  },
  {
   "cell_type": "code",
   "execution_count": null,
   "metadata": {
    "collapsed": false
   },
   "outputs": [],
   "source": [
    "import sys\n",
    "sys.getdefaultencoding()"
   ]
  },
  {
   "cell_type": "markdown",
   "metadata": {},
   "source": [
    "When you open a file you can specify the encoding you want to use. Not all encodings can handle the full range of Unicode code pints."
   ]
  },
  {
   "cell_type": "code",
   "execution_count": null,
   "metadata": {
    "collapsed": false
   },
   "outputs": [],
   "source": [
    "o_f = open(\"unicode.txt\", \"w\", encoding=\"IBM775\")\n",
    "print(type(o_f))\n",
    "o_f.write(s1)"
   ]
  },
  {
   "cell_type": "code",
   "execution_count": null,
   "metadata": {
    "collapsed": false
   },
   "outputs": [],
   "source": [
    "o_f = open(\"unicode.txt\", \"w\", encoding=\"utf-16-be\")\n",
    "print(type(o_f))"
   ]
  },
  {
   "cell_type": "code",
   "execution_count": null,
   "metadata": {
    "collapsed": false
   },
   "outputs": [],
   "source": [
    "o_f.write(s1)\n",
    "o_f.close()\n",
    "i_f = open(\"unicode.txt\", \"rb\")\n",
    "print(type(i_f))"
   ]
  },
  {
   "cell_type": "code",
   "execution_count": null,
   "metadata": {
    "collapsed": false
   },
   "outputs": [],
   "source": [
    "b1 = i_f.read()\n",
    "for b in b1[::2]:\n",
    "    print(\"{!x} {!c}\".format(b, b))\n",
    "i_f.close()"
   ]
  },
  {
   "cell_type": "code",
   "execution_count": null,
   "metadata": {
    "collapsed": false
   },
   "outputs": [],
   "source": [
    "be = b'\\x20\\xac'"
   ]
  },
  {
   "cell_type": "code",
   "execution_count": null,
   "metadata": {
    "collapsed": false
   },
   "outputs": [],
   "source": [
    "be.decode('utf-16-be')"
   ]
  }
 ],
 "metadata": {
  "kernelspec": {
   "display_name": "Python 3",
   "language": "python",
   "name": "python3"
  },
  "language_info": {
   "codemirror_mode": {
    "name": "ipython",
    "version": 3
   },
   "file_extension": ".py",
   "mimetype": "text/x-python",
   "name": "python",
   "nbconvert_exporter": "python",
   "pygments_lexer": "ipython3",
   "version": "3.4.1"
  }
 },
 "nbformat": 4,
 "nbformat_minor": 0
}
