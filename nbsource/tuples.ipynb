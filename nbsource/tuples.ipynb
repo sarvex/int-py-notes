{
 "cells": [
  {
   "cell_type": "markdown",
   "metadata": {},
   "source": [
    "# <img src=\"https://dl.dropboxusercontent.com/u/6117375/intermediate-notebooks/title_graphic.png\" /> Tuples"
   ]
  },
  {
   "cell_type": "markdown",
   "metadata": {},
   "source": [
    "The tuple is a sequence container not unlike the list except that once created you cannot change it. You might wonder why such a container even exists, and the real answer is that it is designed principally for holding sequences of values where the _position_ of an item has significance.\n",
    "\n",
    "For example, prior to Python 2.6, [the `os.stat()` library function call](http://docs.python.org/2/library/os.html#os.stat \"\") would return a tuple of ten elements: if `s` is the output of an `os.stat()` call on a specific path then `s[9]` is the creation time of that path and `s[8]` is its modification time."
   ]
  },
  {
   "cell_type": "markdown",
   "metadata": {},
   "source": [
    "It is often more convenient to refer to the elements of a returned tuple using attribute names, and can certainly improve a program's readability immensely. For that reason nowadays `os.stat()` returns a __[`collections.namedtuple`](http://docs.python.org/2/library/collections.html#collections.namedtuple \"\")__ object."
   ]
  },
  {
   "cell_type": "markdown",
   "metadata": {},
   "source": [
    "To avoid causing failures in existing code you can also use the standard tuple access mechanisms. Nevertheless tuples are firmly embedded in Python, and they do allow you to create a structure that you can pass to someone else's code with a reasonable expectation it won't be mangled. Like strings, tuples are an _immutable_ type - once created they can't be changed."
   ]
  },
  {
   "cell_type": "markdown",
   "metadata": {},
   "source": [
    "Tuples are represented in Python source code as a sequence of values separated by commas."
   ]
  },
  {
   "cell_type": "code",
   "execution_count": 2,
   "metadata": {
    "collapsed": false
   },
   "outputs": [],
   "source": [
    "xy_position = 25, 50"
   ]
  },
  {
   "cell_type": "code",
   "execution_count": 3,
   "metadata": {
    "collapsed": false
   },
   "outputs": [
    {
     "data": {
      "text/plain": [
       "(25, 50)"
      ]
     },
     "execution_count": 3,
     "metadata": {},
     "output_type": "execute_result"
    }
   ],
   "source": [
    "xy_position"
   ]
  },
  {
   "cell_type": "markdown",
   "metadata": {},
   "source": [
    "As you can see, the interpreter puts parentheses around the list when it represents a tuple (you will probably remember that lists are represented in square brackets). It's conventional, but often not necessary, to write parentheses arund the tuples in your source. After all, that's just a parenthesized tuple. There are some situations, such as passing a tuple as an argument to a function, where the parentheses are required for the interpreter to make sense of your code.\n",
    "\n",
    "As a sequence type the elements of a tuple can be accessed by numeric index just like the elements of a list or the characters of a string."
   ]
  },
  {
   "cell_type": "code",
   "execution_count": 4,
   "metadata": {
    "collapsed": false
   },
   "outputs": [
    {
     "data": {
      "text/plain": [
       "25"
      ]
     },
     "execution_count": 4,
     "metadata": {},
     "output_type": "execute_result"
    }
   ],
   "source": [
    "xy_position[0]"
   ]
  },
  {
   "cell_type": "code",
   "execution_count": 5,
   "metadata": {
    "collapsed": false
   },
   "outputs": [
    {
     "data": {
      "text/plain": [
       "50"
      ]
     },
     "execution_count": 5,
     "metadata": {},
     "output_type": "execute_result"
    }
   ],
   "source": [
    "xy_position[1]"
   ]
  },
  {
   "cell_type": "markdown",
   "metadata": {},
   "source": [
    "The tuple does not have as many methods as the list type. You can find things with the `index()` method and count them with `count()`."
   ]
  },
  {
   "cell_type": "code",
   "execution_count": 8,
   "metadata": {
    "collapsed": false
   },
   "outputs": [
    {
     "data": {
      "text/plain": [
       "(6, 4)"
      ]
     },
     "execution_count": 8,
     "metadata": {},
     "output_type": "execute_result"
    }
   ],
   "source": [
    "heterogeneous = (1, \"potato\", 2, \"potato\", 3, \"potato\", 4, \"potato\")\n",
    "heterogeneous.index(4), heterogeneous.count(\"potato\")"
   ]
  },
  {
   "cell_type": "markdown",
   "metadata": {},
   "source": [
    "The expression on the last line is itself a tuple. The values in a tuple are not restricted to literal objects but can be full-blown Python expressions."
   ]
  },
  {
   "cell_type": "markdown",
   "metadata": {},
   "source": [
    "__Exceptional Circumstances__  \n",
    "Here you see the response when an attempt is made to alter one of a tuple's values.\n",
    "\n",
    "    "
   ]
  },
  {
   "cell_type": "code",
   "execution_count": 9,
   "metadata": {
    "collapsed": false
   },
   "outputs": [
    {
     "ename": "TypeError",
     "evalue": "'tuple' object does not support item assignment",
     "output_type": "error",
     "traceback": [
      "\u001b[1;31m---------------------------------------------------------------------------\u001b[0m",
      "\u001b[1;31mTypeError\u001b[0m                                 Traceback (most recent call last)",
      "\u001b[1;32m<ipython-input-9-4ba7e7c8eb2d>\u001b[0m in \u001b[0;36m<module>\u001b[1;34m()\u001b[0m\n\u001b[1;32m----> 1\u001b[1;33m \u001b[0mheterogeneous\u001b[0m\u001b[1;33m[\u001b[0m\u001b[1;36m3\u001b[0m\u001b[1;33m]\u001b[0m \u001b[1;33m=\u001b[0m \u001b[1;34m\"tomato\"\u001b[0m\u001b[1;33m\u001b[0m\u001b[0m\n\u001b[0m",
      "\u001b[1;31mTypeError\u001b[0m: 'tuple' object does not support item assignment"
     ]
    }
   ],
   "source": [
    "heterogeneous[3] = \"tomato\""
   ]
  },
  {
   "cell_type": "markdown",
   "metadata": {},
   "source": [
    "That tells you quite clearly you cannot substitute any of the elements in the tuple.\n",
    "Please note that this does __not__ mean that objects contained within the tuple cannot be mutated. In this next example we create a tuple one of whose elements is a list. You can see that the tuple is represented differently after the change to the list, but the change is allowed because the tuple element still refers to the same object."
   ]
  },
  {
   "cell_type": "code",
   "execution_count": 10,
   "metadata": {
    "collapsed": false
   },
   "outputs": [
    {
     "name": "stdout",
     "output_type": "stream",
     "text": [
      "[3, 4, 5]\n"
     ]
    }
   ],
   "source": [
    "immutable = (0, 1, 2, [3, 4, 5])\n",
    "print(immutable[3])"
   ]
  },
  {
   "cell_type": "code",
   "execution_count": 11,
   "metadata": {
    "collapsed": false
   },
   "outputs": [
    {
     "name": "stdout",
     "output_type": "stream",
     "text": [
      "[3, 'See - it can be done', 5] (0, 1, 2, [3, 'See - it can be done', 5])\n"
     ]
    }
   ],
   "source": [
    "immutable[3][1] = \"See - it can be done\"\n",
    "print(immutable[3], immutable)"
   ]
  },
  {
   "cell_type": "markdown",
   "metadata": {},
   "source": [
    "#### A Note on the `namedtuple`"
   ]
  },
  {
   "cell_type": "markdown",
   "metadata": {},
   "source": [
    "Would you rather write (and how about reading?):\n",
    "\n",
    "    s = os.stat(some_path)\n",
    "    some_path_mod_time = s[7]\n",
    "    \n",
    "when you could instead use the more modern:\n",
    "\n",
    "    s = os.stat(some_path)\n",
    "    some_path_mod_time = s.st_mtime\n",
    "\n",
    "The mnemonic assistance of the name is incredibly valuable in keeping Python code (or indeed that of any programming language) readable by making the code more self-documenting."
   ]
  },
  {
   "cell_type": "markdown",
   "metadata": {},
   "source": [
    "A `namedtuple` is a type. You create a new type by calling `collections.namedtuple()` with two arguments. The first is a string naming the type (used when instances are represented, for example) and the second specifies the names of the attributes that each instance will have.\n",
    "\n",
    "The attribute names can be presented as either:\n",
    "\n",
    "* a list of strings, _e.g._ `['name', 'address', 'phone_number']`, or\n",
    "* a string containing whitespace-separated field names, _e.g._ `\"name address phone_number\"`, or\n",
    "* a string containing a comma-separated list of field names, _e.g._ `\"name, address, phone_number\"`\n",
    "\n",
    "This flexibility can avoid tiresome conversions in many cases."
   ]
  },
  {
   "cell_type": "code",
   "execution_count": 12,
   "metadata": {
    "collapsed": false
   },
   "outputs": [
    {
     "data": {
      "text/plain": [
       "AddressBookEntry(name='Steve Holden', address='123 Neverland Road', phone_number='123 5555')"
      ]
     },
     "execution_count": 12,
     "metadata": {},
     "output_type": "execute_result"
    }
   ],
   "source": [
    "from collections import namedtuple\n",
    "AddressBookEntry = namedtuple(\"AddressBookEntry\", \"name, address, phone_number\")\n",
    "steve = AddressBookEntry(\"Steve Holden\", \"123 Neverland Road\", \"123 5555\")\n",
    "steve"
   ]
  },
  {
   "cell_type": "markdown",
   "metadata": {},
   "source": [
    "Once you create your named tuple definition it operates exactly the same as a built-in type."
   ]
  },
  {
   "cell_type": "code",
   "execution_count": 13,
   "metadata": {
    "collapsed": false
   },
   "outputs": [
    {
     "data": {
      "text/plain": [
       "(type, type, __main__.AddressBookEntry)"
      ]
     },
     "execution_count": 13,
     "metadata": {},
     "output_type": "execute_result"
    }
   ],
   "source": [
    "type(int), type(AddressBookEntry), type(steve)"
   ]
  },
  {
   "cell_type": "markdown",
   "metadata": {},
   "source": [
    "__Exceptional Cirumstances__\n",
    "\n",
    "The first argument has to be a valid identifier, or bad things happen:"
   ]
  },
  {
   "cell_type": "code",
   "execution_count": null,
   "metadata": {
    "collapsed": false
   },
   "outputs": [],
   "source": [
    "anything = namedtuple(\"several words\", \"list of field names\")"
   ]
  },
  {
   "cell_type": "markdown",
   "metadata": {},
   "source": [
    "The fact that `namedtuple` is implemented entirely in Python is responsible for the rather verbose nature of the traceback."
   ]
  },
  {
   "cell_type": "markdown",
   "metadata": {},
   "source": [
    "When creating `namedtuple` instances you can just pass the attribute values in the same sequence as they were defined. This is easy, but prone to error if changes such as the ordering of the names in the definition takes place.\n",
    "\n",
    "It is therefore sound practice (though ignoring it is neither uncommon nor inexcusable) to use keyword arguments to the instantiation calls as shown here."
   ]
  },
  {
   "cell_type": "code",
   "execution_count": null,
   "metadata": {
    "collapsed": false
   },
   "outputs": [],
   "source": [
    "pat = AddressBookEntry(name=\"Patrick Barton\",\n",
    "                       phone_number=\"124 5555\",\n",
    "                       address=\"125 Neverland Road\")\n",
    "pat"
   ]
  },
  {
   "cell_type": "code",
   "execution_count": null,
   "metadata": {
    "collapsed": false
   },
   "outputs": [],
   "source": [
    "kirby = AddressBookEntry(address=\"121 Neverland Road\",\n",
    "                         phone_number=\"122 5555\",\n",
    "                         name=\"Kirby Urner\")\n",
    "kirby"
   ]
  },
  {
   "cell_type": "markdown",
   "metadata": {},
   "source": [
    "When you take these address book values you can treat them just like any other type, and use dotted notation for the individual attributes."
   ]
  },
  {
   "cell_type": "code",
   "execution_count": null,
   "metadata": {
    "collapsed": false
   },
   "outputs": [],
   "source": [
    "address_book = [kirby, pat, steve]\n",
    "for entry in address_book:\n",
    "    print(entry.name, entry.phone_number)"
   ]
  },
  {
   "cell_type": "code",
   "execution_count": null,
   "metadata": {
    "collapsed": false
   },
   "outputs": [],
   "source": []
  }
 ],
 "metadata": {
  "kernelspec": {
   "display_name": "Python 3",
   "language": "python",
   "name": "python3"
  },
  "language_info": {
   "codemirror_mode": {
    "name": "ipython",
    "version": 3
   },
   "file_extension": ".py",
   "mimetype": "text/x-python",
   "name": "python",
   "nbconvert_exporter": "python",
   "pygments_lexer": "ipython3",
   "version": "3.4.1"
  }
 },
 "nbformat": 4,
 "nbformat_minor": 0
}
