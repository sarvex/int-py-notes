{
 "cells": [
  {
   "cell_type": "markdown",
   "metadata": {},
   "source": [
    "# <img src=\"https://dl.dropboxusercontent.com/u/6117375/intermediate-notebooks/title_graphic.png\" /> The Python Iteration Protocol "
   ]
  },
  {
   "cell_type": "markdown",
   "metadata": {},
   "source": [
    "### Iteration Protocols"
   ]
  },
  {
   "cell_type": "markdown",
   "metadata": {},
   "source": [
    "The interpreter used to use a very simple model for iteration, which remains available today for backward compatibity reasons (though Python objects themselves no longer use it. The approximate equivalent of an old-style loop like\n",
    "\n",
    "    for item in items:\n",
    "        do_something_with(item)\n",
    "\n",
    "would be\n",
    "\n",
    "    intern = 0\n",
    "    while True:\n",
    "        try:\n",
    "            item = items.__getitem__(intern)\n",
    "        except IndexError:\n",
    "            break\n",
    "        do_something_with(item)\n",
    "        intern += 1    \n",
    "\n",
    "We normally think of iterating over the contents of a container such as a list or a string. In fact any object that responds correctly to an iteration protocol, even this now-outmoded style, can be iterated overt. Below you can see just such a class, whose items can be iterated over.\n",
    "\n",
    "A `SequenceOf(N, obj)` object acts under iteration just like a tuple of `N` copies of the value `obj`."
   ]
  },
  {
   "cell_type": "code",
   "execution_count": 2,
   "metadata": {
    "collapsed": false
   },
   "outputs": [
    {
     "name": "stdout",
     "output_type": "stream",
     "text": [
      "*\n",
      "*\n",
      "*\n",
      "*\n",
      "*\n",
      "120\n",
      "120\n",
      "120\n"
     ]
    }
   ],
   "source": [
    "class SequenceOf(object):\n",
    "    def __init__(self, N, obj):\n",
    "        self.obj = obj\n",
    "        self.N = N\n",
    "    def __getitem__(self, i):\n",
    "        if i >= self.N:\n",
    "            raise IndexError(\"Index exceeds defined length %d\" % self.N)\n",
    "        return self.obj\n",
    "\n",
    "five_stars = SequenceOf(5, \"*\")\n",
    "for c in five_stars:\n",
    "    print(c)\n",
    "\n",
    "three_ints = SequenceOf(3, 120)\n",
    "for c in three_ints:\n",
    "    print(c)"
   ]
  },
  {
   "cell_type": "markdown",
   "metadata": {},
   "source": [
    "The interpreter calls its `__getitem__()` method with successively higher integers until the call raises a `StopIteration` exception. This is interpreted internally (_i.e._ the exception is trapped and handled, not appearing to the user) as the end of the sequence and the loop terminates normally.\n",
    "\n",
    "You can see that the same objects respond to standard indexing methods pretty much in the same way as a list would (though because the implementation is in Python the traceback is a little more forthcoming than usual about what's going on. Of course it isn't very interesting, because any valid index returns the same object."
   ]
  },
  {
   "cell_type": "code",
   "execution_count": 3,
   "metadata": {
    "collapsed": false
   },
   "outputs": [
    {
     "data": {
      "text/plain": [
       "120"
      ]
     },
     "execution_count": 3,
     "metadata": {},
     "output_type": "execute_result"
    }
   ],
   "source": [
    "three_ints[1]"
   ]
  },
  {
   "cell_type": "code",
   "execution_count": 4,
   "metadata": {
    "collapsed": false
   },
   "outputs": [
    {
     "ename": "IndexError",
     "evalue": "Index exceeds defined length 3",
     "output_type": "error",
     "traceback": [
      "\u001b[1;31m---------------------------------------------------------------------------\u001b[0m",
      "\u001b[1;31mIndexError\u001b[0m                                Traceback (most recent call last)",
      "\u001b[1;32m<ipython-input-4-579c9cfe575c>\u001b[0m in \u001b[0;36m<module>\u001b[1;34m()\u001b[0m\n\u001b[0;32m      1\u001b[0m \u001b[1;31m# XXX Turn into comment\u001b[0m\u001b[1;33m\u001b[0m\u001b[1;33m\u001b[0m\u001b[0m\n\u001b[1;32m----> 2\u001b[1;33m \u001b[0mthree_ints\u001b[0m\u001b[1;33m[\u001b[0m\u001b[1;36m3\u001b[0m\u001b[1;33m]\u001b[0m\u001b[1;33m\u001b[0m\u001b[0m\n\u001b[0m",
      "\u001b[1;32m<ipython-input-2-c4acddb4ad6b>\u001b[0m in \u001b[0;36m__getitem__\u001b[1;34m(self, i)\u001b[0m\n\u001b[0;32m      5\u001b[0m     \u001b[1;32mdef\u001b[0m \u001b[0m__getitem__\u001b[0m\u001b[1;33m(\u001b[0m\u001b[0mself\u001b[0m\u001b[1;33m,\u001b[0m \u001b[0mi\u001b[0m\u001b[1;33m)\u001b[0m\u001b[1;33m:\u001b[0m\u001b[1;33m\u001b[0m\u001b[0m\n\u001b[0;32m      6\u001b[0m         \u001b[1;32mif\u001b[0m \u001b[0mi\u001b[0m \u001b[1;33m>=\u001b[0m \u001b[0mself\u001b[0m\u001b[1;33m.\u001b[0m\u001b[0mN\u001b[0m\u001b[1;33m:\u001b[0m\u001b[1;33m\u001b[0m\u001b[0m\n\u001b[1;32m----> 7\u001b[1;33m             \u001b[1;32mraise\u001b[0m \u001b[0mIndexError\u001b[0m\u001b[1;33m(\u001b[0m\u001b[1;34m\"Index exceeds defined length %d\"\u001b[0m \u001b[1;33m%\u001b[0m \u001b[0mself\u001b[0m\u001b[1;33m.\u001b[0m\u001b[0mN\u001b[0m\u001b[1;33m)\u001b[0m\u001b[1;33m\u001b[0m\u001b[0m\n\u001b[0m\u001b[0;32m      8\u001b[0m         \u001b[1;32mreturn\u001b[0m \u001b[0mself\u001b[0m\u001b[1;33m.\u001b[0m\u001b[0mobj\u001b[0m\u001b[1;33m\u001b[0m\u001b[0m\n\u001b[0;32m      9\u001b[0m \u001b[1;33m\u001b[0m\u001b[0m\n",
      "\u001b[1;31mIndexError\u001b[0m: Index exceeds defined length 3"
     ]
    }
   ],
   "source": [
    "# XXX Turn into comment\n",
    "three_ints[3]"
   ]
  },
  {
   "cell_type": "markdown",
   "metadata": {},
   "source": [
    "This older protocol does not extend to non-sequence containers such as the dict and the set, whose elements are not ordered. To a dict, numerical subscripts are just keys like any other rather than implying a position within a sequence. The set has no items to get, and therefore has no `__getitem__()` method at all!"
   ]
  },
  {
   "cell_type": "code",
   "execution_count": 5,
   "metadata": {
    "collapsed": false
   },
   "outputs": [
    {
     "data": {
      "text/plain": [
       "False"
      ]
     },
     "execution_count": 5,
     "metadata": {},
     "output_type": "execute_result"
    }
   ],
   "source": [
    "\"__getitem__\" in dir(set())\n"
   ]
  },
  {
   "cell_type": "markdown",
   "metadata": {},
   "source": [
    "If the object `iterable` _does_ have an `__iter__()` method a loop like\n",
    "\n",
    "    for item in iterable:\n",
    "        do_something_with(item)\n",
    "\n",
    "is implemented inside the interpreter in approximately the following way.\n",
    "\n",
    "    it = iterable.__iter__()\n",
    "    while True:\n",
    "        try:\n",
    "            val = it.__next__()\n",
    "        except StopIteration:\n",
    "            break\n",
    "        do_something_with(val)"
   ]
  },
  {
   "cell_type": "markdown",
   "metadata": {},
   "source": [
    "With an `__iter__()` method present, the interpreter calls it to return some object which is expected to have a `__next__()` method. That method is then repeatedly calleds \n",
    "\n",
    "Again you observe that the exception (in the newer protocol a `StopIteration` exception must be raised to terminate iteration) never reaches the user's code, being swallowed silently as a part of the operation.\n",
    "\n",
    "Again, once you understand how the interpreter interacts with iterable items you can implement your own. Here's a class whose instances operate similarly to `SequenceOf` objects."
   ]
  },
  {
   "cell_type": "code",
   "execution_count": 6,
   "metadata": {
    "collapsed": false
   },
   "outputs": [
    {
     "data": {
      "text/plain": [
       "['__and__',\n",
       " '__class__',\n",
       " '__contains__',\n",
       " '__delattr__',\n",
       " '__dir__',\n",
       " '__doc__',\n",
       " '__eq__',\n",
       " '__format__',\n",
       " '__ge__',\n",
       " '__getattribute__',\n",
       " '__gt__',\n",
       " '__hash__',\n",
       " '__iand__',\n",
       " '__init__',\n",
       " '__ior__',\n",
       " '__isub__',\n",
       " '__iter__',\n",
       " '__ixor__',\n",
       " '__le__',\n",
       " '__len__',\n",
       " '__lt__',\n",
       " '__ne__',\n",
       " '__new__',\n",
       " '__or__',\n",
       " '__rand__',\n",
       " '__reduce__',\n",
       " '__reduce_ex__',\n",
       " '__repr__',\n",
       " '__ror__',\n",
       " '__rsub__',\n",
       " '__rxor__',\n",
       " '__setattr__',\n",
       " '__sizeof__',\n",
       " '__str__',\n",
       " '__sub__',\n",
       " '__subclasshook__',\n",
       " '__xor__',\n",
       " 'add',\n",
       " 'clear',\n",
       " 'copy',\n",
       " 'difference',\n",
       " 'difference_update',\n",
       " 'discard',\n",
       " 'intersection',\n",
       " 'intersection_update',\n",
       " 'isdisjoint',\n",
       " 'issubset',\n",
       " 'issuperset',\n",
       " 'pop',\n",
       " 'remove',\n",
       " 'symmetric_difference',\n",
       " 'symmetric_difference_update',\n",
       " 'union',\n",
       " 'update']"
      ]
     },
     "execution_count": 6,
     "metadata": {},
     "output_type": "execute_result"
    }
   ],
   "source": [
    "s = set (range(10))\n",
    "dir(s)"
   ]
  },
  {
   "cell_type": "code",
   "execution_count": 7,
   "metadata": {
    "collapsed": false
   },
   "outputs": [],
   "source": [
    "class SequenceOf:\n",
    "    def __init__(self, N, obj):\n",
    "        self.N = N\n",
    "        self.obj = obj\n",
    "        self.count = 0\n",
    "    def __iter__(self):\n",
    "        return self\n",
    "    def __next__(self):\n",
    "        self.count += 1\n",
    "        if self.count > self.N:\n",
    "            raise StopIteration()\n",
    "        return self.obj        "
   ]
  },
  {
   "cell_type": "markdown",
   "metadata": {},
   "source": [
    "This object conforms to the iterator protocol because its `__iter__()` method returns an object with a `__iter__()` and a `__next__()` method. There are some implications to the fact that it returns itself htat we will look into shortly, but the fact remains that a `Sequence2` object conforms to the iterator protocol."
   ]
  },
  {
   "cell_type": "code",
   "execution_count": 8,
   "metadata": {
    "collapsed": false
   },
   "outputs": [
    {
     "name": "stdout",
     "output_type": "stream",
     "text": [
      "little strings\n",
      "little strings\n",
      "little strings\n",
      "little strings\n",
      "little strings\n"
     ]
    }
   ],
   "source": [
    "s1 = SequenceOf(5, \"little strings\")\n",
    "for thing in s1:\n",
    "    print(thing)"
   ]
  },
  {
   "cell_type": "markdown",
   "metadata": {},
   "source": [
    "So that summarizes how the iteration protocol works and how you can write iterators.\n",
    "\n",
    "There's a little more to cover, but you've got the basics."
   ]
  },
  {
   "cell_type": "raw",
   "metadata": {},
   "source": [
    "!stop"
   ]
  },
  {
   "cell_type": "code",
   "execution_count": 9,
   "metadata": {
    "collapsed": false
   },
   "outputs": [],
   "source": [
    "from unittest.mock import MagicMock\n",
    "m = MagicMock()\n",
    "for x in m:\n",
    "    print(m, end=\" \")"
   ]
  },
  {
   "cell_type": "code",
   "execution_count": 10,
   "metadata": {
    "collapsed": false
   },
   "outputs": [
    {
     "data": {
      "text/plain": [
       "[call.__iter__()]"
      ]
     },
     "execution_count": 10,
     "metadata": {},
     "output_type": "execute_result"
    }
   ],
   "source": [
    "m.mock_calls # very different from a standard interpreter - do this one on Python Anywhere? (or not at all ...)"
   ]
  }
 ],
 "metadata": {
  "kernelspec": {
   "display_name": "Python 3",
   "language": "python",
   "name": "python3"
  },
  "language_info": {
   "codemirror_mode": {
    "name": "ipython",
    "version": 3
   },
   "file_extension": ".py",
   "mimetype": "text/x-python",
   "name": "python",
   "nbconvert_exporter": "python",
   "pygments_lexer": "ipython3",
   "version": "3.4.1"
  }
 },
 "nbformat": 4,
 "nbformat_minor": 0
}
